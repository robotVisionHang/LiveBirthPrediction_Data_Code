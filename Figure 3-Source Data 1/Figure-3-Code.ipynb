{
 "cells": [
  {
   "cell_type": "markdown",
   "id": "460ff818",
   "metadata": {},
   "source": [
    "# Library"
   ]
  },
  {
   "cell_type": "code",
   "execution_count": 2,
   "id": "a385f77e",
   "metadata": {},
   "outputs": [],
   "source": [
    "import pandas as pd\n",
    "import matplotlib.pyplot as plt\n",
    "\n",
    "from sklearn import svm\n",
    "from sklearn.metrics import auc\n",
    "from sklearn.metrics import RocCurveDisplay\n",
    "from sklearn.model_selection import StratifiedKFold\n",
    "from sklearn.linear_model import LogisticRegression"
   ]
  },
  {
   "cell_type": "code",
   "execution_count": null,
   "id": "68d75144",
   "metadata": {},
   "outputs": [],
   "source": [
    "# mynewlist contains the clinical features to be analyzed\n",
    "# df is the data frame containing clinical features and birth labels\n",
    "\n",
    "mean_aucs = []\n",
    "\n",
    "for feature_name in list_of_clinical_features:\n",
    "\n",
    "    X = df[ feature_name ].to_numpy().reshape(-1, 1)\n",
    "    y = df[ 'birth_label' ].to_numpy().reshape(-1,1)\n",
    "\n",
    "    # Run classifier with cross-validation and plot ROC curves\n",
    "    cv = StratifiedKFold(n_splits= 10)\n",
    "    #classifier = svm.SVC(kernel=\"linear\", probability=True, random_state= 42)\n",
    "    classifier = LogisticRegression(class_weight= 'balanced', max_iter=1000)\n",
    "\n",
    "    tprs = []\n",
    "    aucs = []\n",
    "    mean_fpr = np.linspace(0, 1, 100)\n",
    "    \n",
    "    fig, ax = plt.subplots()\n",
    "    for i, (train, test) in enumerate(cv.split(X, y)):\n",
    "        # fitting on training dataset\n",
    "        classifier.fit(X[train], y[train])\n",
    "        \n",
    "        # testing on test dataset\n",
    "        viz = RocCurveDisplay.from_estimator(\n",
    "            classifier,\n",
    "            X[test],\n",
    "            y[test],\n",
    "            name=\"ROC fold {}\".format(i),\n",
    "            alpha=0.3,\n",
    "            lw=1,\n",
    "            ax=ax,\n",
    "        )\n",
    "        interp_tpr = np.interp(mean_fpr, viz.fpr, viz.tpr)\n",
    "        interp_tpr[0] = 0.0\n",
    "        tprs.append(interp_tpr)\n",
    "        aucs.append(viz.roc_auc)\n",
    "\n",
    "    mean_tpr = np.mean(tprs, axis=0)\n",
    "    mean_tpr[-1] = 1.0\n",
    "    mean_auc = auc(mean_fpr, mean_tpr)\n",
    "    std_auc = np.std(aucs)\n",
    "    \n",
    "    print( '{}: {}'.format(feature_name, mean_auc) )\n",
    "    \n",
    "    mean_aucs.append( mean_auc )"
   ]
  }
 ],
 "metadata": {
  "kernelspec": {
   "display_name": "Python 3 (ipykernel)",
   "language": "python",
   "name": "python3"
  },
  "language_info": {
   "codemirror_mode": {
    "name": "ipython",
    "version": 3
   },
   "file_extension": ".py",
   "mimetype": "text/x-python",
   "name": "python",
   "nbconvert_exporter": "python",
   "pygments_lexer": "ipython3",
   "version": "3.9.12"
  }
 },
 "nbformat": 4,
 "nbformat_minor": 5
}
